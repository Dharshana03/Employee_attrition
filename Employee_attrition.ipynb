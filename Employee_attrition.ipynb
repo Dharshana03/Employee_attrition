{
  "cells": [
    {
      "attachments": {},
      "cell_type": "markdown",
      "metadata": {},
      "source": [
        "Building an ANN model to predict the possibility of employee attrition. "
      ]
    },
    {
      "cell_type": "code",
      "execution_count": null,
      "metadata": {
        "id": "e8zjDo6K5unf"
      },
      "outputs": [],
      "source": [
        "import pandas as pd\n",
        "from matplotlib import pyplot as plt\n",
        "from sklearn.metrics import confusion_matrix, classification_report, roc_auc_score\n",
        "from sklearn.preprocessing import MinMaxScaler\n",
        "from sklearn.model_selection import train_test_split\n",
        "import seaborn as sns"
      ]
    },
    {
      "attachments": {},
      "cell_type": "markdown",
      "metadata": {},
      "source": [
        "### Load the data and perform EDA.\n",
        "\n",
        "dataset repository -  https://www.kaggle.com/pavansubhasht/ibm-hr-analytics-attrition-dataset\n"
      ]
    },
    {
      "cell_type": "code",
      "execution_count": null,
      "metadata": {
        "colab": {
          "base_uri": "https://localhost:8080/",
          "height": 73
        },
        "id": "byFAymk6faaS",
        "outputId": "b2b243a7-a6ac-4578-e549-cc81c73f4543"
      },
      "outputs": [],
      "source": [
        "url = \"https://raw.githubusercontent.com/Dharshana03/Employee_attrition/main/Data/HR-Employee-Attrition.csv\"\n",
        "attrition_data = pd.read_csv(url)"
      ]
    },
    {
      "cell_type": "code",
      "execution_count": null,
      "metadata": {
        "colab": {
          "base_uri": "https://localhost:8080/",
          "height": 1000
        },
        "id": "ZUVyiGuMnBx5",
        "outputId": "bcb5e2e6-f07f-44c4-9536-1eee6ed1b6b5"
      },
      "outputs": [],
      "source": [
        "attrition_data.head().transpose()"
      ]
    },
    {
      "cell_type": "code",
      "execution_count": null,
      "metadata": {
        "colab": {
          "base_uri": "https://localhost:8080/"
        },
        "id": "mmLhgODVf4BR",
        "outputId": "f648714d-40c6-4d3a-d7db-453e90565863"
      },
      "outputs": [],
      "source": [
        "attrition_data.info()"
      ]
    },
    {
      "cell_type": "code",
      "execution_count": null,
      "metadata": {
        "colab": {
          "base_uri": "https://localhost:8080/"
        },
        "id": "grKNq5DAjQYP",
        "outputId": "412ce6fb-1fc4-477d-9d24-d490820be493"
      },
      "outputs": [],
      "source": [
        "attrition_data.shape"
      ]
    },
    {
      "attachments": {},
      "cell_type": "markdown",
      "metadata": {
        "id": "GjCoabHbjqRl"
      },
      "source": [
        "### Evaluating missing values using heatmap"
      ]
    },
    {
      "cell_type": "code",
      "execution_count": null,
      "metadata": {
        "colab": {
          "base_uri": "https://localhost:8080/",
          "height": 843
        },
        "id": "8-OsqFcWHf4t",
        "outputId": "f5b14394-9ffe-400c-b155-bbd33eb43e4c"
      },
      "outputs": [],
      "source": [
        "plt.figure(figsize=(10, 8))\n",
        "sns.heatmap(attrition_data.isnull(), cbar=False)\n",
        "plt.show()\n"
      ]
    },
    {
      "attachments": {},
      "cell_type": "markdown",
      "metadata": {
        "id": "b767BaA_FulG"
      },
      "source": [
        "### Assessing target class distribution"
      ]
    },
    {
      "cell_type": "code",
      "execution_count": null,
      "metadata": {
        "colab": {
          "base_uri": "https://localhost:8080/",
          "height": 465
        },
        "id": "PtlHaUBAzC8l",
        "outputId": "6cf29474-f71e-404c-8304-0420ffe42b04"
      },
      "outputs": [],
      "source": [
        "attrition_data = pd.get_dummies(attrition_data)\n",
        "print(\"mean: \", attrition_data.Attrition_Yes.mean())\n",
        "attrition_data[\"Attrition_Yes\"].hist()"
      ]
    },
    {
      "attachments": {},
      "cell_type": "markdown",
      "metadata": {
        "id": "B9CY13cdDbiv"
      },
      "source": [
        "This is an imbalanced dataset"
      ]
    },
    {
      "attachments": {},
      "cell_type": "markdown",
      "metadata": {
        "id": "pcci-TbyG_x5"
      },
      "source": [
        "### Assessing information value of individual features (correlation analysis and pairlot)"
      ]
    },
    {
      "cell_type": "code",
      "execution_count": null,
      "metadata": {
        "colab": {
          "base_uri": "https://localhost:8080/",
          "height": 682
        },
        "id": "_6yJSKS30Qwc",
        "outputId": "36fd52e1-61f0-4beb-dac0-f3eb8a15c695"
      },
      "outputs": [],
      "source": [
        "sns.heatmap(attrition_data.corr(), cmap=\"Spectral\")"
      ]
    },
    {
      "cell_type": "code",
      "execution_count": null,
      "metadata": {
        "colab": {
          "base_uri": "https://localhost:8080/"
        },
        "id": "RLVt2UO51Xnz",
        "outputId": "51007922-9159-432f-9a5b-e4ad2941f576"
      },
      "outputs": [],
      "source": [
        "attrition_data.corr()['Attrition_Yes'].sort_values(ascending=False)"
      ]
    },
    {
      "cell_type": "code",
      "execution_count": null,
      "metadata": {
        "colab": {
          "base_uri": "https://localhost:8080/",
          "height": 1000
        },
        "id": "wNsRQy8r1b2E",
        "outputId": "32eaf08a-6eae-4275-9664-a2851b403138"
      },
      "outputs": [],
      "source": [
        "sns.pairplot(attrition_data[['Attrition_Yes',\"OverTime_Yes\",\"MaritalStatus_Single\",\"JobRole_Sales Representative\",\n",
        "                             \"TotalWorkingYears\",\"JobLevel\"]],hue=\"Attrition_Yes\")"
      ]
    },
    {
      "cell_type": "code",
      "execution_count": null,
      "metadata": {
        "colab": {
          "base_uri": "https://localhost:8080/",
          "height": 1000
        },
        "id": "gbViKFIRDZW8",
        "outputId": "867485d5-b0ee-4de2-ef21-e13fec724a6b"
      },
      "outputs": [],
      "source": [
        "sns.pairplot(attrition_data[[\"Attrition_Yes\",\"YearsInCurrentRole\",\"MonthlyIncome\",\"Age\",\"YearsWithCurrManager\",\"StockOptionLevel\",\n",
        "                             \"YearsAtCompany\",\"JobInvolvement\"]],hue=\"Attrition_Yes\")"
      ]
    },
    {
      "attachments": {},
      "cell_type": "markdown",
      "metadata": {
        "id": "kkvfbeYgxMT5"
      },
      "source": [
        "### Pre-processing the dataset"
      ]
    },
    {
      "cell_type": "code",
      "execution_count": null,
      "metadata": {
        "id": "rsn4UeQhHiIq"
      },
      "outputs": [],
      "source": [
        "# removing the columns since there is 0 correlation and variance. \n",
        "attrition_data = attrition_data.drop(['EmployeeCount','StandardHours','Over18_Y'], axis=1)\n",
        "# removing the columns that are redundant and not needed to predict the target\n",
        "attrition_data = attrition_data.drop(['Attrition_No','EmployeeNumber'], axis=1)\n"
      ]
    },
    {
      "cell_type": "code",
      "execution_count": null,
      "metadata": {
        "id": "-dD10zHA3pLa"
      },
      "outputs": [],
      "source": [
        "\n",
        "attrition_data[['WorkLifeBalance','JobSatisfaction','JobLevel','JobInvolvement','RelationshipSatisfaction','EnvironmentSatisfaction','PerformanceRating']] =  attrition_data[['WorkLifeBalance','JobSatisfaction','JobLevel','JobInvolvement','RelationshipSatisfaction','EnvironmentSatisfaction','PerformanceRating']].astype('category',copy=False)\n",
        "attrition_data.rename(columns={\"Attrition_Yes\": \"Attrition\"}, inplace=True)\n",
        "\n",
        "attrition_data_cleaned = pd.get_dummies(attrition_data)\n"
      ]
    },
    {
      "cell_type": "code",
      "execution_count": null,
      "metadata": {
        "colab": {
          "base_uri": "https://localhost:8080/"
        },
        "id": "cgqAYSsqvvQi",
        "outputId": "d9437bbc-5759-42eb-b1aa-0d5939c7d8aa"
      },
      "outputs": [],
      "source": [
        "attrition_data_cleaned.shape"
      ]
    },
    {
      "attachments": {},
      "cell_type": "markdown",
      "metadata": {
        "id": "JEglHz1SxUMq"
      },
      "source": [
        "### Spliting the data into training/test datasets (70/30)"
      ]
    },
    {
      "cell_type": "code",
      "execution_count": null,
      "metadata": {
        "id": "nVgIV3ilxkEs"
      },
      "outputs": [],
      "source": [
        "X = attrition_data_cleaned.drop(\"Attrition\",axis=1).values\n",
        "y = attrition_data_cleaned[\"Attrition\"].values"
      ]
    },
    {
      "cell_type": "code",
      "execution_count": null,
      "metadata": {
        "id": "uU2UI-Zhxh-A"
      },
      "outputs": [],
      "source": [
        "X_train, X_test, y_train, y_test = train_test_split(X,y,test_size=0.30,random_state=1)\n"
      ]
    },
    {
      "attachments": {},
      "cell_type": "markdown",
      "metadata": {
        "id": "UaOe7txDLcgQ"
      },
      "source": [
        "### Building a sequential neural network with the following parameters: 3 hidden dense layers - 70, 35, 18 nodes respectively, activation function = 'relu', dropout = 0.5 for each layer)"
      ]
    },
    {
      "cell_type": "code",
      "execution_count": null,
      "metadata": {
        "id": "Dtz_5t48B1Sl"
      },
      "outputs": [],
      "source": [
        "from sklearn.preprocessing import MinMaxScaler\n",
        "\n",
        "scaler = MinMaxScaler()\n",
        "scaler.fit(X_train)\n",
        "\n",
        "X_train = scaler.transform(X_train)\n",
        "X_test = scaler.transform(X_test)"
      ]
    },
    {
      "cell_type": "code",
      "execution_count": null,
      "metadata": {
        "id": "u97fh6SZB1S2"
      },
      "outputs": [],
      "source": [
        "import tensorflow as tf\n",
        "from tensorflow.keras.models import Sequential\n",
        "from tensorflow.keras.layers import Dense,Activation,Dropout"
      ]
    },
    {
      "cell_type": "code",
      "execution_count": null,
      "metadata": {
        "colab": {
          "base_uri": "https://localhost:8080/"
        },
        "id": "d3fPb4PIB1S5",
        "outputId": "58993ef7-d287-4da1-af79-025e2c03f823"
      },
      "outputs": [],
      "source": [
        "X_train.shape"
      ]
    },
    {
      "cell_type": "code",
      "execution_count": null,
      "metadata": {
        "id": "nrfjbKA_B1Tz"
      },
      "outputs": [],
      "source": [
        "model = Sequential()\n",
        "model.add(Dense(units=70,activation='relu'))\n",
        "model.add(Dropout(0.5))\n",
        "\n",
        "model.add(Dense(units=35,activation='relu'))\n",
        "model.add(Dropout(0.5))\n",
        "\n",
        "model.add(Dense(units=18,activation='relu'))\n",
        "model.add(Dropout(0.5))\n",
        "\n",
        "model.add(Dense(units=1,activation='sigmoid'))\n",
        "model.compile(loss='binary_crossentropy', optimizer='adam')"
      ]
    },
    {
      "attachments": {},
      "cell_type": "markdown",
      "metadata": {
        "id": "y7l6xY2LLrbA"
      },
      "source": [
        "### Using early stopping callback to prevent overfitting"
      ]
    },
    {
      "cell_type": "code",
      "execution_count": null,
      "metadata": {
        "id": "UZ3pfATl-lvU"
      },
      "outputs": [],
      "source": [
        "from tensorflow.keras.callbacks import EarlyStopping"
      ]
    },
    {
      "cell_type": "code",
      "execution_count": null,
      "metadata": {
        "id": "GMOUQOlo-fFJ"
      },
      "outputs": [],
      "source": [
        "early_stop = EarlyStopping(monitor='val_loss', mode='min', verbose=1, patience=5)"
      ]
    },
    {
      "cell_type": "code",
      "execution_count": null,
      "metadata": {
        "colab": {
          "base_uri": "https://localhost:8080/"
        },
        "id": "N9XTLYL0ZELp",
        "outputId": "31a23ef7-9f7e-4c3c-b22f-0524e121fc47"
      },
      "outputs": [],
      "source": [
        "model.fit(x=X_train, \n",
        "          y=y_train, \n",
        "          batch_size=64,\n",
        "          epochs=200,\n",
        "          validation_data=(X_test, y_test), verbose=1,\n",
        "          callbacks=[early_stop]\n",
        "          )"
      ]
    },
    {
      "attachments": {},
      "cell_type": "markdown",
      "metadata": {
        "id": "eTz0f2v730pM"
      },
      "source": [
        "8. Plot training and validation losses versus epochs.\n",
        "9. Print out model confusion matrix.\n",
        "10. Print out model classification report.\n",
        "11. Print out model ROC AUC.\n",
        "\n",
        "4 pts."
      ]
    },
    {
      "attachments": {},
      "cell_type": "markdown",
      "metadata": {
        "id": "veu8w7ByAMQo"
      },
      "source": [
        "### Plotting the training and validation losses versus epochs."
      ]
    },
    {
      "cell_type": "code",
      "execution_count": null,
      "metadata": {
        "colab": {
          "base_uri": "https://localhost:8080/",
          "height": 447
        },
        "id": "Sjs4xEn_HlDR",
        "outputId": "4b29185b-0c96-465e-dedc-57855daaaefa"
      },
      "outputs": [],
      "source": [
        "model_loss = pd.DataFrame(model.history.history)\n",
        "model_loss.plot()"
      ]
    },
    {
      "attachments": {},
      "cell_type": "markdown",
      "metadata": {
        "id": "UQ8UuHnUAbpL"
      },
      "source": [
        "### Confusion matrix"
      ]
    },
    {
      "cell_type": "code",
      "execution_count": null,
      "metadata": {
        "id": "gerGwLB2Zye-"
      },
      "outputs": [],
      "source": [
        "from sklearn.metrics import classification_report,confusion_matrix, roc_auc_score"
      ]
    },
    {
      "cell_type": "code",
      "execution_count": null,
      "metadata": {
        "colab": {
          "base_uri": "https://localhost:8080/"
        },
        "id": "53Izj_9tZpIt",
        "outputId": "4b6470a3-9ff6-47ff-f302-54b248cbf245"
      },
      "outputs": [],
      "source": [
        "y_pred =(model.predict(X_test) > 0.5).astype(\"int32\")"
      ]
    },
    {
      "cell_type": "code",
      "execution_count": null,
      "metadata": {
        "colab": {
          "base_uri": "https://localhost:8080/"
        },
        "id": "z4guvUE5AjrY",
        "outputId": "c990c87b-c5cd-4fd2-dbc3-16bc1b1c86f4"
      },
      "outputs": [],
      "source": [
        "print(confusion_matrix(y_test,y_pred))"
      ]
    },
    {
      "attachments": {},
      "cell_type": "markdown",
      "metadata": {
        "id": "ZubVd9owAotv"
      },
      "source": [
        "### Classification Report"
      ]
    },
    {
      "cell_type": "code",
      "execution_count": null,
      "metadata": {
        "colab": {
          "base_uri": "https://localhost:8080/"
        },
        "id": "7AOyxY1sZ2LU",
        "outputId": "a6c34aaa-6c64-4e5a-f101-0142acda7ac7"
      },
      "outputs": [],
      "source": [
        "print(classification_report(y_test,y_pred))"
      ]
    },
    {
      "attachments": {},
      "cell_type": "markdown",
      "metadata": {
        "id": "7915ZU5EAxGW"
      },
      "source": [
        "### ROC AUC"
      ]
    },
    {
      "cell_type": "code",
      "execution_count": null,
      "metadata": {
        "colab": {
          "base_uri": "https://localhost:8080/"
        },
        "id": "epN90IHQZul7",
        "outputId": "29614c69-51a8-4fb4-c804-a32fadcff373"
      },
      "outputs": [],
      "source": [
        "print('ROC AUC: ', roc_auc_score(y_test,model.predict(X_test)))"
      ]
    }
  ],
  "metadata": {
    "colab": {
      "provenance": [],
      "toc_visible": true
    },
    "gpuClass": "standard",
    "kernelspec": {
      "display_name": "Python 3",
      "name": "python3"
    },
    "language_info": {
      "codemirror_mode": {
        "name": "ipython",
        "version": 3
      },
      "file_extension": ".py",
      "mimetype": "text/x-python",
      "name": "python",
      "nbconvert_exporter": "python",
      "pygments_lexer": "ipython3",
      "version": "3.8.5"
    }
  },
  "nbformat": 4,
  "nbformat_minor": 0
}
